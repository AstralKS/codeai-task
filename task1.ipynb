{
  "nbformat": 4,
  "nbformat_minor": 0,
  "metadata": {
    "colab": {
      "provenance": []
    },
    "kernelspec": {
      "name": "python3",
      "display_name": "Python 3"
    },
    "language_info": {
      "name": "python"
    }
  },
  "cells": [
    {
      "cell_type": "markdown",
      "source": [
        "# ***FOR DOING THE TASK MAKE THE COPY OF THIS COLLAB FILE IN YOUR DRIVE***"
      ],
      "metadata": {
        "id": "XnP1PxmLWjlC"
      }
    },
    {
      "cell_type": "markdown",
      "source": [
        "### 1. Python Basics & Control Structures\n",
        "\n",
        "*Task*:\n",
        "\n",
        "* Write a Python program that:\n",
        "\n",
        "  * Takes a list of strings (e.g., [\"apple\", \"banana\", \"grape\", \"kiwi\", \"orange\"]).\n",
        "  * Filters out fruits with more than 5 characters using a for loop and if statement.\n",
        "  * For each fruit, print its length.\n",
        "\n",
        "*Example Input*:\n",
        "\n",
        "python\n",
        "fruits = [\"apple\", \"banana\", \"grape\", \"kiwi\", \"orange\"]"
      ],
      "metadata": {
        "id": "RBNeAaOLxbe5"
      }
    },
    {
      "cell_type": "code",
      "execution_count": 7,
      "metadata": {
        "id": "NcI_p7F0vFhz",
        "colab": {
          "base_uri": "https://localhost:8080/"
        },
        "outputId": "9f33d221-c610-4f44-9e37-bb5ed9442da6"
      },
      "outputs": [
        {
          "output_type": "stream",
          "name": "stdout",
          "text": [
            "The fruit banana has 6 characters\n",
            "The fruit orange has 6 characters\n"
          ]
        }
      ],
      "source": [
        "f=[\"apple\",\"banana\",\"grape\",\"kiwi\",\"orange\"]\n",
        "\n",
        "for i in f:\n",
        "    if len(i) > 5:\n",
        "        print(f\"The fruit {i} has {len(i)} characters\")"
      ]
    },
    {
      "cell_type": "markdown",
      "source": [
        "\n",
        "*Expected Output*:\n",
        "\n",
        "\n",
        "The fruit apple has 5 characters.\n",
        "\n",
        "The fruit banana has 6 characters.\n",
        "\n",
        "The fruit orange has 6 characters.\n"
      ],
      "metadata": {
        "id": "sQeiBzi9xjIl"
      }
    },
    {
      "cell_type": "markdown",
      "source": [
        "### 2. Functions & Lambda\n",
        "\n",
        "*Task*:\n",
        "\n",
        "* Write a function that takes a list of integers and a threshold value. Use a **lambda* function inside filter() to return a list of numbers greater than the threshold.\n",
        "\n",
        "\n",
        "  # Test the function with a list [1, 5, 10, 3, 8] and threshold 5\n",
        "\n",
        "\n",
        "\n",
        "\n"
      ],
      "metadata": {
        "id": "k12WGkNoyAgY"
      }
    },
    {
      "cell_type": "code",
      "source": [
        "def f(l,t):\n",
        "    return list(filter(lambda x: x>t, l))\n",
        "print(f([1,5,10,3,8],5))"
      ],
      "metadata": {
        "id": "xSLokk2iy1OQ",
        "colab": {
          "base_uri": "https://localhost:8080/"
        },
        "outputId": "235b14b8-6fa6-4af3-932e-6b00230729fb"
      },
      "execution_count": 2,
      "outputs": [
        {
          "output_type": "stream",
          "name": "stdout",
          "text": [
            "[10, 8]\n"
          ]
        }
      ]
    },
    {
      "cell_type": "markdown",
      "source": [
        "### 3. Object-Oriented Programming (OOP)\n",
        "\n",
        "*Task*:\n",
        "\n",
        "* Implement a BankAccount class with methods for depositing, withdrawing, transferring, and checking balance.\n",
        "* Implement *Polymorphism* by overriding the __str__ method to provide a custom string representation of the account.\n",
        "\n",
        "\n",
        "# Example\n",
        "account_a = BankAccount(\"A123\", \"Alice\", 1000)\n",
        "\n",
        "account_b = BankAccount(\"B456\", \"Bob\", 500)\n",
        "\n",
        "account_a.deposit(200)\n",
        "\n",
        "account_a.transfer(300, account_b)\n"
      ],
      "metadata": {
        "id": "qFz4IBidxuK8"
      }
    },
    {
      "cell_type": "code",
      "source": [
        "class account:\n",
        "    def __init__(self, n, o, b=0):\n",
        "        self.n = n\n",
        "        self.o = o\n",
        "        self.b = b\n",
        "    def deposit(self,a):\n",
        "      self.b +=a\n",
        "    def withdraw(self,a):\n",
        "        if self.b >=a:\n",
        "            self.b -=a\n",
        "        else:\n",
        "            print(\"low funds\")\n",
        "    def transfer(self, a, t):\n",
        "        if self.b >=a:\n",
        "            self.b -=a\n",
        "            t.b +=a\n",
        "        else:\n",
        "            print(\"low funds\")\n",
        "    def __str__(self):\n",
        "        return f\"Account({self.n}, owner: {self.o}, balance: {self.b})\"\n",
        "\n",
        "a = account(\"A123\",\"Alice\",1000)\n",
        "b = account(\"B456\",\"Bob\",500)\n",
        "a.deposit(200)\n",
        "a.transfer(300,b)\n",
        "\n",
        "print(a)\n",
        "print(b)"
      ],
      "metadata": {
        "id": "nkl25hP8zWJQ",
        "colab": {
          "base_uri": "https://localhost:8080/"
        },
        "outputId": "ba1af35e-f2bc-4a74-9396-a33fe9acb85b"
      },
      "execution_count": 9,
      "outputs": [
        {
          "output_type": "stream",
          "name": "stdout",
          "text": [
            "Account(A123, owner: keshav, balance: 900)\n",
            "Account(B456, owner: k, balance: 800)\n"
          ]
        }
      ]
    },
    {
      "cell_type": "markdown",
      "source": [
        "### 4. Exception Handling\n",
        "\n",
        "*Task*:\n",
        "\n",
        "* Write a divide_numbers(a, b) function with exception handling:\n",
        "\n",
        "  * Handle division by zero and invalid input (non-numeric values).\n",
        "\n",
        "\n",
        "# Test the function\n",
        "print(divide_numbers(10, 2))   # Valid input\n",
        "\n",
        "print(divide_numbers(10, 0))   # Division by zero\n",
        "\n",
        "print(divide_numbers(\"ten\", 2))  # Invalid input"
      ],
      "metadata": {
        "id": "R9op0Bt0xttt"
      }
    },
    {
      "cell_type": "code",
      "source": [
        "def div(a,b):\n",
        "    try: return a/b\n",
        "    except ZeroDivisionError as e: return \"Cannot divide by zero\"\n",
        "    except TypeError as e: return \"Invalid input, please enter numbers\"\n",
        "\n",
        "print(div(10,2))\n",
        "print(div(10,0))\n",
        "print(div(\"ten\",2))\n"
      ],
      "metadata": {
        "id": "DEZfXk4V0A8_",
        "colab": {
          "base_uri": "https://localhost:8080/"
        },
        "outputId": "29bf7ce9-8cc3-45dc-eea5-5ee73839dc19"
      },
      "execution_count": 12,
      "outputs": [
        {
          "output_type": "stream",
          "name": "stdout",
          "text": [
            "5.0\n",
            "Cannot divide by zero\n",
            "Invalid input, please enter numbers\n"
          ]
        }
      ]
    },
    {
      "cell_type": "markdown",
      "source": [
        "*Example Expected Output*:\n",
        "\n",
        "\n",
        "5.0\n",
        "\n",
        "Cannot divide by zero\n",
        "\n",
        "Invalid input, please enter numbers"
      ],
      "metadata": {
        "id": "UAfaux4e0LsB"
      }
    },
    {
      "cell_type": "markdown",
      "source": [
        "### 5. Python Modules & File Handling\n",
        "\n",
        "*Task*:\n",
        "\n",
        "* Write a Python program to:\n",
        "\n",
        "  * Create a text file \"students.txt\" with student names and marks.\n",
        "  * Read the file and print names of students with marks above 80.\n",
        "\n",
        "\n",
        "\n",
        "\n"
      ],
      "metadata": {
        "id": "_zo-t7xZ0ayU"
      }
    },
    {
      "cell_type": "code",
      "source": [
        "with open(\"students.txt\",\"w\") as f:\n",
        "    f.write(\"Alice 90\\nBob 82\\nDavid 90\\nEve 55\")\n",
        "\n",
        "with open(\"students.txt\",\"r\") as f:\n",
        "    for l in f:\n",
        "        n,m=l.split()\n",
        "        if int(m)>80: print(n)"
      ],
      "metadata": {
        "id": "kp3PLXuv0_cU",
        "colab": {
          "base_uri": "https://localhost:8080/"
        },
        "outputId": "2248f720-3088-4706-8111-2d3fda214dd9"
      },
      "execution_count": 14,
      "outputs": [
        {
          "output_type": "stream",
          "name": "stdout",
          "text": [
            "Alice\n",
            "Bob\n",
            "David\n"
          ]
        }
      ]
    },
    {
      "cell_type": "markdown",
      "source": [
        "\n",
        "*Expected Output*:\n",
        "\n",
        "\n",
        "Alice\n",
        "\n",
        "Bob\n",
        "\n",
        "David\n"
      ],
      "metadata": {
        "id": "BGTgVTJZ0_7b"
      }
    },
    {
      "cell_type": "markdown",
      "source": [
        "### 6. Regular Expressions\n",
        "\n",
        "*Task*:\n",
        "\n",
        "* Write a Python function extract_phone_numbers(text) that extracts all phone numbers from a given text. The phone numbers should be in the format (xxx) xxx-xxxx.\n",
        "\n",
        "\n",
        "sample_text = (\n",
        "    \"For any support regarding our Bangalore office, call us at +91-9876543210 between 9 AM to 6 PM. \"\n",
        "    \"If you are located in Mumbai, you can also reach our helpdesk at 9123456789 for urgent assistance. \"\n",
        "    \"Additionally, our Delhi branch can be contacted at +91-9988776655 during weekdays.\"\n",
        ")\n",
        "\n",
        "\n",
        "\n",
        "\n",
        "*Expected Output*:\n",
        "\n",
        "\n",
        "['+91-9876543210', '+91-9988776655']\n"
      ],
      "metadata": {
        "id": "buuDAsX_2ZEg"
      }
    },
    {
      "cell_type": "code",
      "source": [
        "sample_text = ( \"For any support regarding our Bangalore office, call us at +91-9876543210 between 9 AM to 6 PM. \" \"If you are located in Mumbai, you can also reach our helpdesk at 9123456789 for urgent assistance. \" \"Additionally, our Delhi branch can be contacted at +91-9988776655 during weekdays.\" )\n",
        "\n",
        "def f(t):\n",
        "    n=[]\n",
        "    for w in t.split():\n",
        "        w=w.strip(\",. \")\n",
        "        if w.startswith(\"+91-\") and len(w[4:])==10:\n",
        "          n.append(w)\n",
        "    return n\n",
        "\n",
        "print(f(sample_text))\n"
      ],
      "metadata": {
        "id": "Nx0oXsT92Ytu",
        "colab": {
          "base_uri": "https://localhost:8080/"
        },
        "outputId": "db52bea4-3913-4b13-de25-409d8b205697"
      },
      "execution_count": 19,
      "outputs": [
        {
          "output_type": "stream",
          "name": "stdout",
          "text": [
            "['+91-9876543210', '+91-9988776655']\n"
          ]
        }
      ]
    },
    {
      "cell_type": "markdown",
      "source": [
        "\n",
        "*Expected Output*:\n",
        "\n",
        "\n",
        "['+91-9876543210', '+91-9988776655']"
      ],
      "metadata": {
        "id": "6uPEN50JQ4IP"
      }
    }
  ]
}